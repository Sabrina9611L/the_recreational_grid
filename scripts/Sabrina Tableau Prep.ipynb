{
 "cells": [
  {
   "cell_type": "code",
   "execution_count": 1,
   "id": "cb766dc8-75f4-48d9-a911-57cc02e404ba",
   "metadata": {},
   "outputs": [],
   "source": [
    "import geopandas as gpd\n",
    "import pandas as pd\n",
    "from sklearn.preprocessing import MinMaxScaler"
   ]
  },
  {
   "cell_type": "code",
   "execution_count": 2,
   "id": "79ae8e98-93b0-4961-b824-ad6799b444a1",
   "metadata": {},
   "outputs": [],
   "source": [
    "# Here I am  reading in all of my files after making the clean and it all Tennessee based\n",
    "res = gpd.read_file('res_refined.geojson')\n",
    "zipcode = gpd.read_file('zipcode_refined.geojson')\n",
    "tn = gpd.read_file('tennessee_refined.geojson')\n",
    "trail = gpd.read_file('trails_refined.geojson')\n",
    "rail = gpd.read_file('rail_refined.geojson')\n",
    "park = gpd.read_file('parks_refined.geojson')"
   ]
  },
  {
   "cell_type": "markdown",
   "id": "9443d619-10bc-4ced-b0b5-5f1d9b103851",
   "metadata": {},
   "source": [
    "### How accessible is outdoor recreation in Tennessee, and where should future trail or park investments be prioritized?"
   ]
  },
  {
   "cell_type": "markdown",
   "id": "bc20e60c-06a2-401f-bc13-97af56f7f21b",
   "metadata": {},
   "source": [
    "### Can we rank ZIPs for trail expansion priority?"
   ]
  },
  {
   "cell_type": "code",
   "execution_count": 15,
   "id": "77780bf1-a34f-4916-ba22-0a81177bdcfe",
   "metadata": {},
   "outputs": [
    {
     "data": {
      "text/html": [
       "<div>\n",
       "<style scoped>\n",
       "    .dataframe tbody tr th:only-of-type {\n",
       "        vertical-align: middle;\n",
       "    }\n",
       "\n",
       "    .dataframe tbody tr th {\n",
       "        vertical-align: top;\n",
       "    }\n",
       "\n",
       "    .dataframe thead th {\n",
       "        text-align: right;\n",
       "    }\n",
       "</style>\n",
       "<table border=\"1\" class=\"dataframe\">\n",
       "  <thead>\n",
       "    <tr style=\"text-align: right;\">\n",
       "      <th></th>\n",
       "      <th>ZCTA5CE20</th>\n",
       "      <th>trail_mileage</th>\n",
       "    </tr>\n",
       "  </thead>\n",
       "  <tbody>\n",
       "    <tr>\n",
       "      <th>0</th>\n",
       "      <td>37013</td>\n",
       "      <td>0.180698</td>\n",
       "    </tr>\n",
       "  </tbody>\n",
       "</table>\n",
       "</div>"
      ],
      "text/plain": [
       "  ZCTA5CE20  trail_mileage\n",
       "0     37013       0.180698"
      ]
     },
     "execution_count": 15,
     "metadata": {},
     "output_type": "execute_result"
    }
   ],
   "source": [
    "# I am joining trail with zip to see how much trail is in each of the zipcodes\n",
    "trail_zip = gpd.sjoin(trail, zipcode[['ZCTA5CE20', 'geometry']], how='left', predicate='intersects')\n",
    "trail_by_zip = trail_zip.groupby('ZCTA5CE20')['SEGLEN'].sum().reset_index().rename(columns={'SEGLEN': 'trail_mileage'})\n",
    "trail_by_zip.head(1)"
   ]
  },
  {
   "cell_type": "code",
   "execution_count": 16,
   "id": "2bd44f49-e050-4958-9ac7-a65ec2078f32",
   "metadata": {},
   "outputs": [
    {
     "data": {
      "text/html": [
       "<div>\n",
       "<style scoped>\n",
       "    .dataframe tbody tr th:only-of-type {\n",
       "        vertical-align: middle;\n",
       "    }\n",
       "\n",
       "    .dataframe tbody tr th {\n",
       "        vertical-align: top;\n",
       "    }\n",
       "\n",
       "    .dataframe thead th {\n",
       "        text-align: right;\n",
       "    }\n",
       "</style>\n",
       "<table border=\"1\" class=\"dataframe\">\n",
       "  <thead>\n",
       "    <tr style=\"text-align: right;\">\n",
       "      <th></th>\n",
       "      <th>ZCTA5CE20</th>\n",
       "      <th>reservation_count</th>\n",
       "    </tr>\n",
       "  </thead>\n",
       "  <tbody>\n",
       "    <tr>\n",
       "      <th>0</th>\n",
       "      <td>37013</td>\n",
       "      <td>5</td>\n",
       "    </tr>\n",
       "  </tbody>\n",
       "</table>\n",
       "</div>"
      ],
      "text/plain": [
       "  ZCTA5CE20  reservation_count\n",
       "0     37013                  5"
      ]
     },
     "execution_count": 16,
     "metadata": {},
     "output_type": "execute_result"
    }
   ],
   "source": [
    "# Here I am joining reservations with zip to find where there are lots of reservations made\n",
    "res_zip = gpd.sjoin(res, zipcode[['ZCTA5CE20', 'geometry']], how='left', predicate='within')\n",
    "res_by_zip = res_zip.groupby('ZCTA5CE20').size().reset_index(name='reservation_count')\n",
    "res_by_zip.head(1)"
   ]
  },
  {
   "cell_type": "code",
   "execution_count": 17,
   "id": "aff04b2b-7d5f-4a99-b683-d29983e9099a",
   "metadata": {},
   "outputs": [],
   "source": [
    "# Here I am creating a summary by zipcode for analysis\n",
    "zip_stats = zipcode[['ZCTA5CE20', 'Median Income', 'Total Population']]\n",
    "zip_summary = res_by_zip.merge(trail_by_zip, on='ZCTA5CE20', how='outer').merge(zip_stats, on='ZCTA5CE20', how='left').fillna(0)"
   ]
  },
  {
   "cell_type": "code",
   "execution_count": 18,
   "id": "1502846c-5e16-4de1-9019-9ae5ca2baa7b",
   "metadata": {},
   "outputs": [],
   "source": [
    "# Here I am scaling my value for easier calculations\n",
    "scaler = MinMaxScaler()\n",
    "zip_summary[['norm_trail', 'norm_res', 'norm_income', 'norm_pop']] = scaler.fit_transform(\n",
    "    zip_summary[['trail_mileage', 'reservation_count', 'Median Income', 'Total Population']]\n",
    ")"
   ]
  },
  {
   "cell_type": "code",
   "execution_count": 19,
   "id": "bb6fe4cf-a08f-4ddf-a724-79b9911d2270",
   "metadata": {},
   "outputs": [],
   "source": [
    "# We have a few calculations that are opposite from the rest, like trail being larger means that \n",
    "# there is less need for trails. So we are going to invert these ones\n",
    "zip_summary['trail_need'] = 1 - zip_summary['norm_trail']\n",
    "zip_summary['income_priority'] = 1 - zip_summary['norm_income']"
   ]
  },
  {
   "cell_type": "code",
   "execution_count": 20,
   "id": "17e68c17-22e2-45d4-86f4-087278376117",
   "metadata": {},
   "outputs": [],
   "source": [
    "# Here we are weighting the scores, so we can prioritize where reservation are hot and \n",
    "# where there are few trails\n",
    "zip_summary['priority_score'] = (zip_summary['trail_need'] * 0.4 + zip_summary['norm_res'] * 0.3 +\n",
    "    zip_summary['income_priority'] * 0.2 + zip_summary['norm_pop'] * 0.1)"
   ]
  },
  {
   "cell_type": "code",
   "execution_count": 21,
   "id": "3210553a-bbc9-47e2-b975-72f5d65e52d8",
   "metadata": {},
   "outputs": [],
   "source": [
    "# Here we are just ranking zipcodes by the priority score we just made to see where trails are most\n",
    "# needed\n",
    "zip_summary['trail_priority_rank'] = zip_summary['priority_score'].rank(ascending=False)"
   ]
  },
  {
   "cell_type": "code",
   "execution_count": 22,
   "id": "e8d872db-28e3-4a4d-bd04-bdc65874f55c",
   "metadata": {},
   "outputs": [
    {
     "data": {
      "text/html": [
       "<div>\n",
       "<style scoped>\n",
       "    .dataframe tbody tr th:only-of-type {\n",
       "        vertical-align: middle;\n",
       "    }\n",
       "\n",
       "    .dataframe tbody tr th {\n",
       "        vertical-align: top;\n",
       "    }\n",
       "\n",
       "    .dataframe thead th {\n",
       "        text-align: right;\n",
       "    }\n",
       "</style>\n",
       "<table border=\"1\" class=\"dataframe\">\n",
       "  <thead>\n",
       "    <tr style=\"text-align: right;\">\n",
       "      <th></th>\n",
       "      <th>ZCTA5CE20</th>\n",
       "      <th>reservation_count</th>\n",
       "      <th>trail_mileage</th>\n",
       "      <th>Median Income</th>\n",
       "      <th>Total Population</th>\n",
       "      <th>norm_trail</th>\n",
       "      <th>norm_res</th>\n",
       "      <th>norm_income</th>\n",
       "      <th>norm_pop</th>\n",
       "      <th>trail_need</th>\n",
       "      <th>income_priority</th>\n",
       "      <th>priority_score</th>\n",
       "      <th>trail_priority_rank</th>\n",
       "    </tr>\n",
       "  </thead>\n",
       "  <tbody>\n",
       "    <tr>\n",
       "      <th>0</th>\n",
       "      <td>37013</td>\n",
       "      <td>5.0</td>\n",
       "      <td>0.180698</td>\n",
       "      <td>61801</td>\n",
       "      <td>102184</td>\n",
       "      <td>0.001806</td>\n",
       "      <td>0.022523</td>\n",
       "      <td>0.999886</td>\n",
       "      <td>1.0</td>\n",
       "      <td>0.998194</td>\n",
       "      <td>0.000114</td>\n",
       "      <td>0.506057</td>\n",
       "      <td>6.0</td>\n",
       "    </tr>\n",
       "  </tbody>\n",
       "</table>\n",
       "</div>"
      ],
      "text/plain": [
       "  ZCTA5CE20  reservation_count  trail_mileage  Median Income  \\\n",
       "0     37013                5.0       0.180698          61801   \n",
       "\n",
       "   Total Population  norm_trail  norm_res  norm_income  norm_pop  trail_need  \\\n",
       "0            102184    0.001806  0.022523     0.999886       1.0    0.998194   \n",
       "\n",
       "   income_priority  priority_score  trail_priority_rank  \n",
       "0         0.000114        0.506057                  6.0  "
      ]
     },
     "execution_count": 22,
     "metadata": {},
     "output_type": "execute_result"
    }
   ],
   "source": [
    "# Here we are exporting for Tableau\n",
    "zip_summary.to_csv(exit + 'trail_expansion_priority.csv', index=False)\n",
    "zip_summary.head(1)"
   ]
  },
  {
   "cell_type": "code",
   "execution_count": 23,
   "id": "35b6494d-e590-4615-8317-4daa460bbfb4",
   "metadata": {},
   "outputs": [],
   "source": [
    "# Here I am adding in some geometry and creating a Geo file for Taleau\n",
    "zip_geo = zipcode[['ZCTA5CE20', 'geometry']]\n",
    "zip_summary = zip_summary.merge(zip_geo, on = 'ZCTA5CE20', how = 'inner')\n",
    "zip_gdf = gpd.GeoDataFrame(zip_summary, geometry='geometry')\n",
    "zip_gdf.set_crs(\"EPSG:4326\", inplace=True)\n",
    "zip_gdf.to_file(exit + \"trail_expansion_priority.geojson\", driver=\"GeoJSON\")"
   ]
  },
  {
   "cell_type": "markdown",
   "id": "990d6896-10ac-4629-bcfb-b57b8eb9f271",
   "metadata": {},
   "source": [
    "\"How does median income vary across zipcodes with high vs. low recreation access scores?\""
   ]
  },
  {
   "cell_type": "markdown",
   "id": "45b2f5b4-f949-4a8a-ad9f-6abbdb758fbd",
   "metadata": {},
   "source": [
    "### Are there rail segments that run near parks or residential areas that are inactive and could be repurposed?"
   ]
  },
  {
   "cell_type": "code",
   "execution_count": null,
   "id": "f4d1f278-71c0-4996-9d99-ebf4da706063",
   "metadata": {},
   "outputs": [],
   "source": [
    "# Here I am looking for all abandoned rails\n",
    "inactive_rail = rail[\n",
    "    rail['railusage_description'].str.lower().str.contains('abandoned|inactive|out of service', na=False)\n",
    "]"
   ]
  },
  {
   "cell_type": "code",
   "execution_count": null,
   "id": "de59ccd9-3ae9-4a64-8de1-6fb7ff2af5b8",
   "metadata": {},
   "outputs": [],
   "source": [
    "# Here I am taking a file of all the inactive rails\n",
    "inactive_rail.to_file('rails_inactive.geojson', driver='GeoJSON')"
   ]
  },
  {
   "cell_type": "code",
   "execution_count": null,
   "id": "8085b87f-c00e-4321-867b-21e5d8ac7bca",
   "metadata": {},
   "outputs": [],
   "source": [
    "# Here I am changing the crs to create a buffer\n",
    "inactive_rail = inactive_rail.to_crs(\"EPSG:3857\")\n",
    "park = park.to_crs(inactive_rail.crs)\n",
    "zipcode = zipcode.to_crs(inactive_rail.crs)"
   ]
  },
  {
   "cell_type": "code",
   "execution_count": null,
   "id": "6777b78c-7b7b-4d28-a842-1590e1c81e0f",
   "metadata": {},
   "outputs": [],
   "source": [
    "# Here I am adding in a buffer for the railways\n",
    "rail_buffer = inactive_rail.copy()\n",
    "rail_buffer['geometry'] = rail_buffer.buffer(900)"
   ]
  },
  {
   "cell_type": "code",
   "execution_count": null,
   "id": "3023648e-1ce7-4838-86ef-031c780a5942",
   "metadata": {},
   "outputs": [],
   "source": [
    "# Hear I am define inactive rails that are near parks\n",
    "rail_near_parks = gpd.sjoin(rail_buffer, park[['geometry']], how='inner', predicate='intersects')\n",
    "rails_with_parks = rail_near_parks['permanent_identifier'].unique()\n",
    "\n",
    "# Hear I am define inactive rails that are near residential ZIPs (centroid-based)\n",
    "zipcode['center'] = zipcode.centroid\n",
    "zip_centers = gpd.GeoDataFrame(geometry=zipcode['center'], crs=zipcode.crs)\n",
    "rail_near_zip = gpd.sjoin(rail_buffer, zip_centers, how='inner', predicate='intersects')\n",
    "rails_with_zip = rail_near_zip['permanent_identifier'].unique()"
   ]
  },
  {
   "cell_type": "code",
   "execution_count": null,
   "id": "d6782051-eb1a-4ef6-9689-3725e0ba844e",
   "metadata": {},
   "outputs": [],
   "source": [
    "# Hear I am define inactive rails that are near both parks or ZIPs\n",
    "rails_candidate_ids = set(rails_with_parks).union(set(rails_with_zip))\n",
    "\n",
    "# Here I filter original rail GeoDataFrame\n",
    "rails_to_repurpose = inactive_rail[inactive_rail['permanent_identifier'].isin(rails_candidate_ids)]\n",
    "rails_to_repurpose = rails_to_repurpose.drop(columns=['center'])\n",
    "# Here I am saving for visualization\n",
    "rails_to_repurpose.to_file('rails_to_repurpose.geojson', driver='GeoJSON')"
   ]
  },
  {
   "cell_type": "markdown",
   "id": "d4a71697-33f9-4829-9333-50a6daa52f5f",
   "metadata": {},
   "source": [
    "### Where are the largest trail gaps between parks, trails, and residential areas?"
   ]
  },
  {
   "cell_type": "code",
   "execution_count": null,
   "id": "01de180b-13ea-426f-89dd-9438d588ce92",
   "metadata": {},
   "outputs": [],
   "source": [
    "# Here I am defining the crs to allow for buffering\n",
    "park = park.to_crs(\"EPSG:3857\")\n",
    "rail = rail.to_crs(park.crs)\n",
    "trail = trail.to_crs(park.crs)\n",
    "zipcodes = zipcode.to_crs(park.crs)"
   ]
  },
  {
   "cell_type": "code",
   "execution_count": null,
   "id": "35cbbec1-de95-46c7-9fa3-44bad3232490",
   "metadata": {},
   "outputs": [],
   "source": [
    "# Here I am adding a buffer to the trails\n",
    "trail_buffer = trail.copy()\n",
    "trail_buffer['geometry'] = trail_buffer.buffer(1000)"
   ]
  },
  {
   "cell_type": "code",
   "execution_count": null,
   "id": "47e104ce-34b7-49a4-be09-20504c897beb",
   "metadata": {},
   "outputs": [],
   "source": [
    "#Here I am seeing where there are parks and rails that dont connect with trails\n",
    "parks_no_trail = park[~park.geometry.intersects(trail_buffer.unary_union)]\n",
    "rails_no_trail = rail[~rail.geometry.intersects(trail_buffer.unary_union)]"
   ]
  },
  {
   "cell_type": "code",
   "execution_count": null,
   "id": "6ddf4145-e464-47da-959d-7d2a10502b73",
   "metadata": {},
   "outputs": [],
   "source": [
    "#Here I am reseting the zip geometry\n",
    "zip_gdf = gpd.GeoDataFrame(zipcodes[['ZCTA5CE20']], geometry=zipcodes['geometry'], crs=zipcodes.crs)\n",
    "zips_with_trails = zip_gdf[zip_gdf.geometry.intersects(trail_buffer.unary_union)]\n",
    "\n",
    "# Here I flag ZIPs that DO NOT intersect any trail buffer = \"trail desert ZIPs\"\n",
    "res_zips_no_trail = zip_gdf[~zip_gdf['ZCTA5CE20'].isin(zips_with_trails['ZCTA5CE20'])]"
   ]
  },
  {
   "cell_type": "code",
   "execution_count": null,
   "id": "2d6b0a9f-10d9-443b-8f52-065450249e93",
   "metadata": {},
   "outputs": [],
   "source": [
    "# Here i am just checking types\n",
    "print(parks_no_trail.dtypes)\n",
    "res_zips_no_trail.geom_type"
   ]
  },
  {
   "cell_type": "code",
   "execution_count": null,
   "id": "511c29f3-3f2c-4549-8d01-1a7a560462b7",
   "metadata": {},
   "outputs": [],
   "source": [
    "# Here I am reseting crs and creating data base for visuals\n",
    "parks_no_trail = parks_no_trail.to_crs(\"EPSG:4326\")\n",
    "rails_no_trail = rails_no_trail.to_crs(parks_no_trail.crs)\n",
    "res_zips_no_trail = res_zips_no_trail.to_crs(parks_no_trail.crs)\n",
    "parks_no_trail = parks_no_trail.set_geometry('geometry')\n",
    "rails_no_trail = rails_no_trail.set_geometry('geometry')\n",
    "res_zips_no_trail = res_zips_no_trail.set_geometry('geometry')\n",
    "parks_no_trail.to_file('parks_with_no_trail_access.geojson', driver='GeoJSON')\n",
    "rails_no_trail.to_file('rails_with_no_trail_access.geojson', driver='GeoJSON')\n",
    "res_zips_no_trail.to_file('zips_with_no_trail_access.geojson', driver='GeoJSON')"
   ]
  },
  {
   "cell_type": "code",
   "execution_count": null,
   "id": "2018f430-042f-4207-a19e-e3c796179dc3",
   "metadata": {},
   "outputs": [],
   "source": [
    "# testing\n",
    "zip_list = res_zips_no_trail['ZCTA5CE20'].dropna().unique()"
   ]
  },
  {
   "cell_type": "code",
   "execution_count": null,
   "id": "eb1a9c48-fb07-4b73-ad5a-d00a04fd556a",
   "metadata": {},
   "outputs": [],
   "source": [
    "# testing\n",
    "res_zips_no_trail = zipcode[zipcode['ZCTA5CE20'].isin(zip_list)][['ZCTA5CE20', 'geometry']]\n",
    "res_zips_no_trail = res_zips_no_trail.to_crs(\"EPSG:4326\")"
   ]
  },
  {
   "cell_type": "code",
   "execution_count": null,
   "id": "c1a937e4-5d59-45f9-855d-db1f3b2e72ae",
   "metadata": {},
   "outputs": [],
   "source": [
    "# testing\n",
    "res_zips_no_trail.to_file('zips_with_no_trail_access.geojson', driver='GeoJSON')"
   ]
  },
  {
   "cell_type": "markdown",
   "id": "53a3a2db-affe-43ce-aa86-944383a047e3",
   "metadata": {},
   "source": [
    "### Which zipcodes have high public land density but low population density?"
   ]
  },
  {
   "cell_type": "code",
   "execution_count": null,
   "id": "b78b3f2c-7340-4149-ab67-166d89031e74",
   "metadata": {},
   "outputs": [],
   "source": [
    "# Here i am allowing for buffers\n",
    "zipcode = zipcode.to_crs(\"EPSG:3857\")\n",
    "park = park.to_crs(zipcode.crs)\n",
    "trail = trail.to_crs(zipcode.crs)"
   ]
  },
  {
   "cell_type": "code",
   "execution_count": null,
   "id": "ac1837cd-eb6b-40d5-83e0-ec08c45df662",
   "metadata": {},
   "outputs": [],
   "source": [
    "# Here I am adding buffer to trails\n",
    "trail_buffer = trail.copy()\n",
    "trail_buffer['geometry'] = trail_buffer.buffer(50) "
   ]
  },
  {
   "cell_type": "code",
   "execution_count": null,
   "id": "0db5eab5-70c6-456b-a3d8-66842bd0f2cb",
   "metadata": {},
   "outputs": [],
   "source": [
    "# Here I am joining park polygons to ZIPs\n",
    "park_zip = gpd.sjoin(park, zipcode[['ZCTA5CE20', 'geometry']], how='inner', predicate='intersects')\n",
    "park_zip['park_area'] = park_zip.geometry.area\n",
    "park_area_by_zip = park_zip.groupby('ZCTA5CE20')['park_area'].sum().reset_index()"
   ]
  },
  {
   "cell_type": "code",
   "execution_count": null,
   "id": "0235fe4c-f435-4f0c-a576-a513ee1d9394",
   "metadata": {},
   "outputs": [],
   "source": [
    "# Here I am looking for zips connected to trails\n",
    "trail_zip = gpd.sjoin(trail_buffer, zipcode[['ZCTA5CE20', 'geometry']], how='inner', predicate='intersects')\n",
    "trail_zip['trail_area'] = trail_zip.geometry.area\n",
    "trail_area_by_zip = trail_zip.groupby('ZCTA5CE20')['trail_area'].sum().reset_index()"
   ]
  },
  {
   "cell_type": "code",
   "execution_count": null,
   "id": "1a1a1964-2987-4d6b-88b3-677916d9d6f6",
   "metadata": {},
   "outputs": [],
   "source": [
    "# Starting a dataset with ZIP pop and land area\n",
    "zip_summary = zipcode[['ZCTA5CE20', 'Total Population', 'ALAND20']].copy()  # ALAND20 = land area in sqm\n",
    "\n",
    "# MHere I am merging in public land areas\n",
    "zip_summary = zip_summary.merge(park_area_by_zip, on='ZCTA5CE20', how='left')\n",
    "zip_summary = zip_summary.merge(trail_area_by_zip, on='ZCTA5CE20', how='left')\n",
    "\n",
    "# Here I fill nulls (for ZIPs with no parks or trails)\n",
    "zip_summary[['park_area', 'trail_area']] = zip_summary[['park_area', 'trail_area']].fillna(0)\n",
    "\n",
    "# Here I am adding total public land area\n",
    "zip_summary['public_land_area'] = zip_summary['park_area'] + zip_summary['trail_area']\n",
    "\n",
    "# Here I am calculating public land density (per sq km)\n",
    "zip_summary['public_land_density'] = zip_summary['public_land_area'] / (zip_summary['ALAND20'] / 1e6)\n",
    "\n",
    "# Here I am adding population density (people per sq km)\n",
    "zip_summary['population_density'] = zip_summary['Total Population'] / (zip_summary['ALAND20'] / 1e6)\n"
   ]
  },
  {
   "cell_type": "code",
   "execution_count": null,
   "id": "43b8048c-4760-4932-bc97-1858127a0c57",
   "metadata": {},
   "outputs": [],
   "source": [
    "# analysis\n",
    "low_pop_cutoff = zip_summary['population_density'].median()\n",
    "zip_priority = zip_summary[zip_summary['population_density'] < low_pop_cutoff]\n",
    "\n",
    "# Here I sort by public land density\n",
    "zip_priority = zip_priority.sort_values('public_land_density', ascending=False)\n",
    "zipcode = zipcode.to_crs(\"EPSG:4326\")\n",
    "zip_priority = zip_priority.merge(zip_geo, on = 'ZCTA5CE20', how = 'inner')\n",
    "# Here I export for visuals\n",
    "zip_priority.to_csv('zip_high_land_low_pop.csv', index=False)\n",
    "zip_priority.to_file('zip_high_land_low_pop.geojson', driver='GeoJSON')"
   ]
  },
  {
   "cell_type": "markdown",
   "id": "21e03aee-6263-456f-9c4f-4dd078600420",
   "metadata": {},
   "source": [
    "### How much of each zipcode is covered by recreational infrastructure?"
   ]
  },
  {
   "cell_type": "code",
   "execution_count": null,
   "id": "81d4cc1d-628e-43da-ad16-0f4b32a5a46b",
   "metadata": {},
   "outputs": [],
   "source": [
    "# Here I am allowing for buffering\n",
    "zipcode = zipcode.to_crs(\"EPSG:3857\")  \n",
    "park = park.to_crs(zipcode.crs)\n",
    "trail = trail.to_crs(zipcode.crs)"
   ]
  },
  {
   "cell_type": "code",
   "execution_count": null,
   "id": "201e66ba-8d1b-4e44-8bc4-fe5010b8249d",
   "metadata": {},
   "outputs": [],
   "source": [
    "# Here I am adding in a buffer to the trails\n",
    "trail_buffer = trail\n",
    "trail_buffer['geometry'] = trail_buffer.buffer(100)"
   ]
  },
  {
   "cell_type": "code",
   "execution_count": null,
   "id": "044747b0-609c-4e25-b508-d1e2d71d1796",
   "metadata": {},
   "outputs": [],
   "source": [
    "# Here I am combining the geometries\n",
    "all_recreation = pd.concat([trail_buffer[['geometry']], park[['geometry']]])\n",
    "\n",
    "# Here I am making a combined polygon for analysis\n",
    "recreation_union = all_recreation.unary_union"
   ]
  },
  {
   "cell_type": "code",
   "execution_count": null,
   "id": "8a3d4639-8ceb-464b-ad6b-4959011762c8",
   "metadata": {},
   "outputs": [],
   "source": [
    "# Here I am looking to add recreation by zip\n",
    "zipcode['recreation_area'] = zipcode.geometry.intersection(recreation_union)\n",
    "zipcode['recreation_area_sqm'] = zipcode['recreation_area'].area\n",
    "\n",
    "# Here I calcualte total zip area \n",
    "zipcode['zip_area_sqm'] = zipcode.geometry.area\n",
    "\n",
    "# Here I calculate % coverage by recreation\n",
    "zipcode['recreation_pct'] = zipcode['recreation_area_sqm'] / zipcode['zip_area_sqm'] * 100"
   ]
  },
  {
   "cell_type": "code",
   "execution_count": null,
   "id": "41230d52-0883-4524-911e-32fced5fc986",
   "metadata": {},
   "outputs": [],
   "source": [
    "# Here I export for visualization\n",
    "zipcode_summary = zipcode[['ZCTA5CE20', 'recreation_pct', 'zip_area_sqm', 'recreation_area_sqm']]\n",
    "zipcode_summary.to_csv('recreation_coverage_by_zip.csv', index=False)"
   ]
  },
  {
   "cell_type": "markdown",
   "id": "d946e6f4-a433-4d54-a557-5af57dc0a18b",
   "metadata": {},
   "source": [
    "### Are there trail deserts (zipcodes or areas with no trails within 1 mile)?"
   ]
  },
  {
   "cell_type": "code",
   "execution_count": null,
   "id": "b5aa143c-c5b1-4da1-b7b9-aac86fb23bc8",
   "metadata": {},
   "outputs": [],
   "source": [
    "# Here I allow for buffers\n",
    "zipcode = zipcode.to_crs(\"EPSG:3857\")\n",
    "trail = trail.to_crs(zipcode.crs)\n",
    "\n",
    "# Here I create a buffer for the trails\n",
    "trail_buffer_1mi = trail.copy()\n",
    "trail_buffer_1mi['geometry'] = trail_buffer_1mi.buffer(1609)"
   ]
  },
  {
   "cell_type": "code",
   "execution_count": null,
   "id": "5593100c-0cfa-4af0-aa08-eb883797f713",
   "metadata": {},
   "outputs": [],
   "source": [
    "# Here I check to see which zips intersect with trails\n",
    "zip_with_trails = gpd.sjoin(zipcode, trail_buffer_1mi[['geometry']], how='inner', predicate='intersects')\n",
    "\n",
    "# Here I store the unique zips with any trail access\n",
    "zip_codes_with_trails = zip_with_trails['ZCTA5CE20'].unique()"
   ]
  },
  {
   "cell_type": "code",
   "execution_count": null,
   "id": "40478823-1503-47db-8ea3-bd4fe8694fcf",
   "metadata": {},
   "outputs": [],
   "source": [
    "# Here I define the deserts as the zips that didnt have any access\n",
    "zipcode['trail_desert'] = ~zipcode['ZCTA5CE20'].isin(zip_codes_with_trails)"
   ]
  },
  {
   "cell_type": "code",
   "execution_count": null,
   "id": "91a986ff-5c15-4628-b29a-e4fbee5ba6a6",
   "metadata": {},
   "outputs": [],
   "source": [
    "# Here I export for visuals\n",
    "trail_deserts = zipcode[zipcode['trail_desert']][['ZCTA5CE20', 'geometry']]\n",
    "trail_deserts.to_file('trail_deserts.geojson', driver='GeoJSON')\n",
    "\n",
    "# Here I print the no trail zips\n",
    "print(trail_deserts[['ZCTA5CE20']])"
   ]
  },
  {
   "cell_type": "markdown",
   "id": "6f9aacfe-ed88-45a4-853e-c4c57d43bc22",
   "metadata": {},
   "source": [
    "### Which zipcodes have the longest total trail length?"
   ]
  },
  {
   "cell_type": "code",
   "execution_count": null,
   "id": "57450a65-a373-4752-b8b9-f2584e0ffb6a",
   "metadata": {},
   "outputs": [],
   "source": [
    "# Here I combine trails and zips\n",
    "trail_zip = gpd.sjoin(trail[['SEGLEN', 'geometry']], zipcode[['ZCTA5CE20', 'geometry']], how='left', predicate='intersects')"
   ]
  },
  {
   "cell_type": "code",
   "execution_count": null,
   "id": "e0b708f8-06b2-431f-aa85-550ba3751297",
   "metadata": {},
   "outputs": [],
   "source": [
    "# Here I group by zips and sum trail segment lengths\n",
    "trail_by_zip = trail_zip.groupby('ZCTA5CE20')['SEGLEN'].sum().reset_index().rename(columns={'SEGLEN': 'total_trail_length'})"
   ]
  },
  {
   "cell_type": "code",
   "execution_count": null,
   "id": "a5164710-0186-4120-b4ea-3063f7eda2e7",
   "metadata": {},
   "outputs": [],
   "source": [
    "# Here I ranks the zips for longest trails\n",
    "trail_by_zip['trail_rank'] = trail_by_zip['total_trail_length'].rank(ascending=False)"
   ]
  },
  {
   "cell_type": "code",
   "execution_count": null,
   "id": "83b816ca-aaa7-4017-8a4c-48340186ba6b",
   "metadata": {},
   "outputs": [],
   "source": [
    "# Here I export for visuals\n",
    "trail_by_zip.to_csv('zip_trail_lengths.csv', index=False)"
   ]
  },
  {
   "cell_type": "markdown",
   "id": "fd27869e-59a5-48b5-87c9-ca7e2dcc7fe4",
   "metadata": {},
   "source": [
    "### Do lower-income or rural ZIP codes make fewer reservations?"
   ]
  },
  {
   "cell_type": "code",
   "execution_count": 3,
   "id": "8d59b226-6311-4cfe-9d59-aab735004625",
   "metadata": {},
   "outputs": [],
   "source": [
    "# Here I am just defining the folder I want to store the files in \n",
    "exit = 'tableau/'"
   ]
  },
  {
   "cell_type": "code",
   "execution_count": 4,
   "id": "d8aa07e8-84ae-4eb2-943c-bed140e67cfc",
   "metadata": {},
   "outputs": [
    {
     "data": {
      "text/html": [
       "<div>\n",
       "<style scoped>\n",
       "    .dataframe tbody tr th:only-of-type {\n",
       "        vertical-align: middle;\n",
       "    }\n",
       "\n",
       "    .dataframe tbody tr th {\n",
       "        vertical-align: top;\n",
       "    }\n",
       "\n",
       "    .dataframe thead th {\n",
       "        text-align: right;\n",
       "    }\n",
       "</style>\n",
       "<table border=\"1\" class=\"dataframe\">\n",
       "  <thead>\n",
       "    <tr style=\"text-align: right;\">\n",
       "      <th></th>\n",
       "      <th>parentlocation</th>\n",
       "      <th>park</th>\n",
       "      <th>sitetype</th>\n",
       "      <th>usetype</th>\n",
       "      <th>inventorytype</th>\n",
       "      <th>facilityzip</th>\n",
       "      <th>customerzip</th>\n",
       "      <th>average_totalpaid</th>\n",
       "      <th>sum_nights</th>\n",
       "      <th>average_nights</th>\n",
       "      <th>sum_numberofpeople</th>\n",
       "      <th>average_numberofpeople</th>\n",
       "      <th>geometry</th>\n",
       "      <th>index_right</th>\n",
       "      <th>ZCTA5CE20</th>\n",
       "      <th>Median Income</th>\n",
       "      <th>Total Population</th>\n",
       "    </tr>\n",
       "  </thead>\n",
       "  <tbody>\n",
       "    <tr>\n",
       "      <th>0</th>\n",
       "      <td>Barkley Lake</td>\n",
       "      <td>DOVER</td>\n",
       "      <td>GROUP SHELTER ELECTRIC</td>\n",
       "      <td>Day</td>\n",
       "      <td>CAMPING</td>\n",
       "      <td>310</td>\n",
       "      <td>37015</td>\n",
       "      <td>35.0</td>\n",
       "      <td>0.0</td>\n",
       "      <td>0.0</td>\n",
       "      <td>30.0</td>\n",
       "      <td>30.0</td>\n",
       "      <td>POINT (-87.84306 36.49028)</td>\n",
       "      <td>399</td>\n",
       "      <td>37058</td>\n",
       "      <td>56310</td>\n",
       "      <td>7620</td>\n",
       "    </tr>\n",
       "  </tbody>\n",
       "</table>\n",
       "</div>"
      ],
      "text/plain": [
       "  parentlocation   park                sitetype usetype inventorytype  \\\n",
       "0   Barkley Lake  DOVER  GROUP SHELTER ELECTRIC     Day       CAMPING   \n",
       "\n",
       "  facilityzip customerzip  average_totalpaid  sum_nights  average_nights  \\\n",
       "0         310       37015               35.0         0.0             0.0   \n",
       "\n",
       "   sum_numberofpeople  average_numberofpeople                    geometry  \\\n",
       "0                30.0                    30.0  POINT (-87.84306 36.49028)   \n",
       "\n",
       "   index_right ZCTA5CE20  Median Income  Total Population  \n",
       "0          399     37058          56310              7620  "
      ]
     },
     "execution_count": 4,
     "metadata": {},
     "output_type": "execute_result"
    }
   ],
   "source": [
    "# Here I am joining the reservation data with the zipcodes and demographics\n",
    "res_with_zip = gpd.sjoin(res, zipcode[['ZCTA5CE20', 'Median Income', 'Total Population', 'geometry']], how='left', predicate='within')\n",
    "res_with_zip.head(1)"
   ]
  },
  {
   "cell_type": "code",
   "execution_count": 5,
   "id": "851dfbac-458d-4b59-aa65-8ba5a342b17c",
   "metadata": {},
   "outputs": [
    {
     "data": {
      "text/html": [
       "<div>\n",
       "<style scoped>\n",
       "    .dataframe tbody tr th:only-of-type {\n",
       "        vertical-align: middle;\n",
       "    }\n",
       "\n",
       "    .dataframe tbody tr th {\n",
       "        vertical-align: top;\n",
       "    }\n",
       "\n",
       "    .dataframe thead th {\n",
       "        text-align: right;\n",
       "    }\n",
       "</style>\n",
       "<table border=\"1\" class=\"dataframe\">\n",
       "  <thead>\n",
       "    <tr style=\"text-align: right;\">\n",
       "      <th></th>\n",
       "      <th>ZCTA5CE20</th>\n",
       "      <th>reservation_count</th>\n",
       "      <th>average_totalpaid</th>\n",
       "      <th>sum_nights</th>\n",
       "      <th>average_nights</th>\n",
       "      <th>sum_numberofpeople</th>\n",
       "      <th>average_numberofpeople</th>\n",
       "    </tr>\n",
       "  </thead>\n",
       "  <tbody>\n",
       "    <tr>\n",
       "      <th>0</th>\n",
       "      <td>37013</td>\n",
       "      <td>5</td>\n",
       "      <td>49.0</td>\n",
       "      <td>0.0</td>\n",
       "      <td>0.0</td>\n",
       "      <td>220.0</td>\n",
       "      <td>44.0</td>\n",
       "    </tr>\n",
       "  </tbody>\n",
       "</table>\n",
       "</div>"
      ],
      "text/plain": [
       "  ZCTA5CE20  reservation_count  average_totalpaid  sum_nights  average_nights  \\\n",
       "0     37013                  5               49.0         0.0             0.0   \n",
       "\n",
       "   sum_numberofpeople  average_numberofpeople  \n",
       "0               220.0                    44.0  "
      ]
     },
     "execution_count": 5,
     "metadata": {},
     "output_type": "execute_result"
    }
   ],
   "source": [
    "# Here I am doing a group by to get the total reservations and other aggregates by zipcode\n",
    "reservation_counts = res_with_zip.groupby('ZCTA5CE20').agg({'parentlocation': 'count',                  \n",
    "    'average_totalpaid': 'mean', 'sum_nights': 'sum', 'average_nights': 'mean',\n",
    "    'sum_numberofpeople': 'sum', 'average_numberofpeople': 'mean'\n",
    "}).reset_index().rename(columns={'parentlocation': 'reservation_count'})\n",
    "reservation_counts.head(1)"
   ]
  },
  {
   "cell_type": "code",
   "execution_count": 6,
   "id": "5b5d47ef-0e56-456c-ac93-4f4cc9c50d08",
   "metadata": {},
   "outputs": [
    {
     "data": {
      "text/html": [
       "<div>\n",
       "<style scoped>\n",
       "    .dataframe tbody tr th:only-of-type {\n",
       "        vertical-align: middle;\n",
       "    }\n",
       "\n",
       "    .dataframe tbody tr th {\n",
       "        vertical-align: top;\n",
       "    }\n",
       "\n",
       "    .dataframe thead th {\n",
       "        text-align: right;\n",
       "    }\n",
       "</style>\n",
       "<table border=\"1\" class=\"dataframe\">\n",
       "  <thead>\n",
       "    <tr style=\"text-align: right;\">\n",
       "      <th></th>\n",
       "      <th>ZCTA5CE20</th>\n",
       "      <th>reservation_count</th>\n",
       "      <th>average_totalpaid</th>\n",
       "      <th>sum_nights</th>\n",
       "      <th>average_nights</th>\n",
       "      <th>sum_numberofpeople</th>\n",
       "      <th>average_numberofpeople</th>\n",
       "      <th>Median Income</th>\n",
       "      <th>Total Population</th>\n",
       "    </tr>\n",
       "  </thead>\n",
       "  <tbody>\n",
       "    <tr>\n",
       "      <th>0</th>\n",
       "      <td>37013</td>\n",
       "      <td>5</td>\n",
       "      <td>49.0</td>\n",
       "      <td>0.0</td>\n",
       "      <td>0.0</td>\n",
       "      <td>220.0</td>\n",
       "      <td>44.0</td>\n",
       "      <td>61801</td>\n",
       "      <td>102184</td>\n",
       "    </tr>\n",
       "  </tbody>\n",
       "</table>\n",
       "</div>"
      ],
      "text/plain": [
       "  ZCTA5CE20  reservation_count  average_totalpaid  sum_nights  average_nights  \\\n",
       "0     37013                  5               49.0         0.0             0.0   \n",
       "\n",
       "   sum_numberofpeople  average_numberofpeople  Median Income  Total Population  \n",
       "0               220.0                    44.0          61801            102184  "
      ]
     },
     "execution_count": 6,
     "metadata": {},
     "output_type": "execute_result"
    }
   ],
   "source": [
    "# Here I am merging median income and total population back into reservation in preperation for Tableau\n",
    "zip_analysis = pd.merge(reservation_counts, zipcode[['ZCTA5CE20', 'Median Income', 'Total Population']], on='ZCTA5CE20', how='left')\n",
    "zip_analysis.to_csv(exit + 'zip_reservation_income_analysis.csv', index=False)\n",
    "zip_analysis.head(1)"
   ]
  },
  {
   "cell_type": "markdown",
   "id": "e7d0ba78-63be-485f-9424-002a05f37891",
   "metadata": {},
   "source": [
    "### Do lower-income or rural zipcodes make fewer reservations?"
   ]
  },
  {
   "cell_type": "code",
   "execution_count": null,
   "id": "34702262-26a9-40cf-8001-b06a30e33702",
   "metadata": {},
   "outputs": [],
   "source": [
    "# Here I am joining the reservation data with the zipcodes and demographics\n",
    "res_with_zip = gpd.sjoin(res, zipcode[['ZCTA5CE20', 'Median Income', 'Total Population', 'geometry']], how='left', predicate='within')\n",
    "res_with_zip.head(1)"
   ]
  },
  {
   "cell_type": "code",
   "execution_count": null,
   "id": "dd4adba3-27fb-47c9-8b54-951229b84fed",
   "metadata": {},
   "outputs": [],
   "source": [
    "# Here I am doing a group by to get the total reservations and other aggregates by zipcode\n",
    "reservation_counts = res_with_zip.groupby('ZCTA5CE20').agg({'parentlocation': 'count',                  \n",
    "    'average_totalpaid': 'mean', 'sum_nights': 'sum', 'average_nights': 'mean',\n",
    "    'sum_numberofpeople': 'sum', 'average_numberofpeople': 'mean'\n",
    "}).reset_index().rename(columns={'parentlocation': 'reservation_count'})\n",
    "reservation_counts.head(1)"
   ]
  },
  {
   "cell_type": "code",
   "execution_count": null,
   "id": "c18475e2-bd8e-4fa5-8c36-5c6caaa16939",
   "metadata": {},
   "outputs": [],
   "source": [
    "# Here I am merging median income and total population back into reservation in preperation for Tableau\n",
    "zip_analysis = pd.merge(reservation_counts, zipcode[['ZCTA5CE20', 'Median Income', 'Total Population']], on='ZCTA5CE20', how='left')\n",
    "zip_analysis.to_csv('zip_reservation_income_analysis.csv', index=False)\n",
    "zip_analysis.head(10)"
   ]
  },
  {
   "cell_type": "markdown",
   "id": "72081a20-74dd-47b7-9b5e-81b8cb3f2e85",
   "metadata": {},
   "source": [
    "### Which ZIP codes generate the most outdoor reservations?"
   ]
  },
  {
   "cell_type": "code",
   "execution_count": 1,
   "id": "366c7a37-cb1c-421d-ad4f-3ab725de8c2a",
   "metadata": {},
   "outputs": [
    {
     "ename": "NameError",
     "evalue": "name 'res' is not defined",
     "output_type": "error",
     "traceback": [
      "\u001b[1;31m---------------------------------------------------------------------------\u001b[0m",
      "\u001b[1;31mNameError\u001b[0m                                 Traceback (most recent call last)",
      "Cell \u001b[1;32mIn[1], line 2\u001b[0m\n\u001b[0;32m      1\u001b[0m \u001b[38;5;66;03m# Here I am looking at the count of origin zips to show where people are coming from\u001b[39;00m\n\u001b[1;32m----> 2\u001b[0m origin_zip_counts \u001b[38;5;241m=\u001b[39m res\u001b[38;5;241m.\u001b[39mgroupby(\u001b[38;5;124m'\u001b[39m\u001b[38;5;124mcustomerzip\u001b[39m\u001b[38;5;124m'\u001b[39m)\u001b[38;5;241m.\u001b[39msize()\u001b[38;5;241m.\u001b[39mreset_index(name\u001b[38;5;241m=\u001b[39m\u001b[38;5;124m'\u001b[39m\u001b[38;5;124mreservation_count\u001b[39m\u001b[38;5;124m'\u001b[39m)\n\u001b[0;32m      3\u001b[0m \u001b[38;5;66;03m# I also wanted to add in some of the other stats\u001b[39;00m\n\u001b[0;32m      4\u001b[0m origin_zip_stats \u001b[38;5;241m=\u001b[39m res\u001b[38;5;241m.\u001b[39mgroupby(\u001b[38;5;124m'\u001b[39m\u001b[38;5;124mcustomerzip\u001b[39m\u001b[38;5;124m'\u001b[39m)\u001b[38;5;241m.\u001b[39magg({\u001b[38;5;124m'\u001b[39m\u001b[38;5;124maverage_totalpaid\u001b[39m\u001b[38;5;124m'\u001b[39m: \u001b[38;5;124m'\u001b[39m\u001b[38;5;124mmean\u001b[39m\u001b[38;5;124m'\u001b[39m,\n\u001b[0;32m      5\u001b[0m     \u001b[38;5;124m'\u001b[39m\u001b[38;5;124maverage_numberofpeople\u001b[39m\u001b[38;5;124m'\u001b[39m: \u001b[38;5;124m'\u001b[39m\u001b[38;5;124mmean\u001b[39m\u001b[38;5;124m'\u001b[39m, \u001b[38;5;124m'\u001b[39m\u001b[38;5;124msum_nights\u001b[39m\u001b[38;5;124m'\u001b[39m: \u001b[38;5;124m'\u001b[39m\u001b[38;5;124msum\u001b[39m\u001b[38;5;124m'\u001b[39m})\u001b[38;5;241m.\u001b[39mreset_index()\n",
      "\u001b[1;31mNameError\u001b[0m: name 'res' is not defined"
     ]
    }
   ],
   "source": [
    "# Here I am looking at the count of origin zips to show where people are coming from\n",
    "origin_zip_counts = res.groupby('customerzip').size().reset_index(name='reservation_count')\n",
    "# I also wanted to add in some of the other stats\n",
    "origin_zip_stats = res.groupby('customerzip').agg({'average_totalpaid': 'mean',\n",
    "    'average_numberofpeople': 'mean', 'sum_nights': 'sum'}).reset_index()\n",
    "# Here I merge the two together for an origin summary and export for Tableau\n",
    "zip_origin_summary = pd.merge(origin_zip_counts, origin_zip_stats, on='customerzip', how='left')\n",
    "zip_origin_summary.to_csv(exit + 'zip_origin_reservations.csv', index=False)"
   ]
  },
  {
   "cell_type": "markdown",
   "id": "71fd1203-8188-4379-8472-4f8ddad639af",
   "metadata": {},
   "source": [
    "### How does Income vary across ZIPs with high vs. low recreation access scores?"
   ]
  },
  {
   "cell_type": "code",
   "execution_count": 36,
   "id": "c3c0db1b-2e04-4a8c-b145-aa3ed5b8af58",
   "metadata": {},
   "outputs": [],
   "source": [
    "# Here I merge trail and reservation data to zipcode and fill in na with 0's\n",
    "zip = zipcode[['ZCTA5CE20', 'Total Population', 'Median Income]]\n",
    "access = zip.merge(trail_by_zip, on='ZCTA5CE20', how='left')\n",
    "access = access.merge(res_by_zip, on='ZCTA5CE20', how='left')\n",
    "access = access.fillna(0)"
   ]
  },
  {
   "cell_type": "code",
   "execution_count": 37,
   "id": "86d250dc-35f9-4db5-b6e3-84dac972234f",
   "metadata": {},
   "outputs": [],
   "source": [
    "# Here I am making a flag for high and low access based on trail mileage\n",
    "trail_mean = access['trail_mileage'].mean()\n",
    "access['access_group'] = access['trail_mileage'].apply(\n",
    "    lambda x: 'High Access' if x >= trail_mean else 'Low Access')"
   ]
  },
  {
   "cell_type": "code",
   "execution_count": 38,
   "id": "55f4a972-06b8-4732-8bfc-965779b0972d",
   "metadata": {},
   "outputs": [],
   "source": [
    "# Here I export for visuals \n",
    "access.to_csv(exit + 'simple_access_income.csv', index=False)"
   ]
  },
  {
   "cell_type": "code",
   "execution_count": null,
   "id": "d093974d-0ab7-48a0-bd4a-5c53c77adc1d",
   "metadata": {},
   "outputs": [],
   "source": []
  }
 ],
 "metadata": {
  "kernelspec": {
   "display_name": "Python 3 (ipykernel)",
   "language": "python",
   "name": "python3"
  },
  "language_info": {
   "codemirror_mode": {
    "name": "ipython",
    "version": 3
   },
   "file_extension": ".py",
   "mimetype": "text/x-python",
   "name": "python",
   "nbconvert_exporter": "python",
   "pygments_lexer": "ipython3",
   "version": "3.11.7"
  }
 },
 "nbformat": 4,
 "nbformat_minor": 5
}
