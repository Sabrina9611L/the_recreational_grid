{
 "cells": [
  {
   "cell_type": "code",
   "execution_count": 1,
   "id": "cb766dc8-75f4-48d9-a911-57cc02e404ba",
   "metadata": {},
   "outputs": [],
   "source": [
    "import geopandas as gpd\n",
    "import pandas as pd\n",
    "from sklearn.preprocessing import MinMaxScaler"
   ]
  },
  {
   "cell_type": "code",
   "execution_count": 2,
   "id": "79ae8e98-93b0-4961-b824-ad6799b444a1",
   "metadata": {},
   "outputs": [],
   "source": [
    "# Here I am  reading in all of my files after making the clean and it all Tennessee based\n",
    "res = gpd.read_file('res_refined.geojson')\n",
    "zipcode = gpd.read_file('zipcode_refined.geojson')\n",
    "tn = gpd.read_file('tennessee_refined.geojson')\n",
    "trail = gpd.read_file('trails_refined.geojson')\n",
    "rail = gpd.read_file('rail_refined.geojson')\n",
    "park = gpd.read_file('parks_refined.geojson')"
   ]
  },
  {
   "cell_type": "markdown",
   "id": "fd27869e-59a5-48b5-87c9-ca7e2dcc7fe4",
   "metadata": {},
   "source": [
    "### Do lower-income or rural ZIP codes make fewer reservations?"
   ]
  },
  {
   "cell_type": "code",
   "execution_count": 3,
   "id": "8d59b226-6311-4cfe-9d59-aab735004625",
   "metadata": {},
   "outputs": [],
   "source": [
    "# Here I am just defining the folder I want to store the files in \n",
    "exit = 'tableau/'"
   ]
  },
  {
   "cell_type": "code",
   "execution_count": 4,
   "id": "d8aa07e8-84ae-4eb2-943c-bed140e67cfc",
   "metadata": {},
   "outputs": [
    {
     "data": {
      "text/html": [
       "<div>\n",
       "<style scoped>\n",
       "    .dataframe tbody tr th:only-of-type {\n",
       "        vertical-align: middle;\n",
       "    }\n",
       "\n",
       "    .dataframe tbody tr th {\n",
       "        vertical-align: top;\n",
       "    }\n",
       "\n",
       "    .dataframe thead th {\n",
       "        text-align: right;\n",
       "    }\n",
       "</style>\n",
       "<table border=\"1\" class=\"dataframe\">\n",
       "  <thead>\n",
       "    <tr style=\"text-align: right;\">\n",
       "      <th></th>\n",
       "      <th>parentlocation</th>\n",
       "      <th>park</th>\n",
       "      <th>sitetype</th>\n",
       "      <th>usetype</th>\n",
       "      <th>inventorytype</th>\n",
       "      <th>facilityzip</th>\n",
       "      <th>customerzip</th>\n",
       "      <th>average_totalpaid</th>\n",
       "      <th>sum_nights</th>\n",
       "      <th>average_nights</th>\n",
       "      <th>sum_numberofpeople</th>\n",
       "      <th>average_numberofpeople</th>\n",
       "      <th>geometry</th>\n",
       "      <th>index_right</th>\n",
       "      <th>ZCTA5CE20</th>\n",
       "      <th>Median Income</th>\n",
       "      <th>Total Population</th>\n",
       "    </tr>\n",
       "  </thead>\n",
       "  <tbody>\n",
       "    <tr>\n",
       "      <th>0</th>\n",
       "      <td>Barkley Lake</td>\n",
       "      <td>DOVER</td>\n",
       "      <td>GROUP SHELTER ELECTRIC</td>\n",
       "      <td>Day</td>\n",
       "      <td>CAMPING</td>\n",
       "      <td>310</td>\n",
       "      <td>37015</td>\n",
       "      <td>35.0</td>\n",
       "      <td>0.0</td>\n",
       "      <td>0.0</td>\n",
       "      <td>30.0</td>\n",
       "      <td>30.0</td>\n",
       "      <td>POINT (-87.84306 36.49028)</td>\n",
       "      <td>399</td>\n",
       "      <td>37058</td>\n",
       "      <td>56310</td>\n",
       "      <td>7620</td>\n",
       "    </tr>\n",
       "  </tbody>\n",
       "</table>\n",
       "</div>"
      ],
      "text/plain": [
       "  parentlocation   park                sitetype usetype inventorytype  \\\n",
       "0   Barkley Lake  DOVER  GROUP SHELTER ELECTRIC     Day       CAMPING   \n",
       "\n",
       "  facilityzip customerzip  average_totalpaid  sum_nights  average_nights  \\\n",
       "0         310       37015               35.0         0.0             0.0   \n",
       "\n",
       "   sum_numberofpeople  average_numberofpeople                    geometry  \\\n",
       "0                30.0                    30.0  POINT (-87.84306 36.49028)   \n",
       "\n",
       "   index_right ZCTA5CE20  Median Income  Total Population  \n",
       "0          399     37058          56310              7620  "
      ]
     },
     "execution_count": 4,
     "metadata": {},
     "output_type": "execute_result"
    }
   ],
   "source": [
    "# Here I am joining the reservation data with the zipcodes and demographics\n",
    "res_with_zip = gpd.sjoin(res, zipcode[['ZCTA5CE20', 'Median Income', 'Total Population', 'geometry']], how='left', predicate='within')\n",
    "res_with_zip.head(1)"
   ]
  },
  {
   "cell_type": "code",
   "execution_count": 5,
   "id": "851dfbac-458d-4b59-aa65-8ba5a342b17c",
   "metadata": {},
   "outputs": [
    {
     "data": {
      "text/html": [
       "<div>\n",
       "<style scoped>\n",
       "    .dataframe tbody tr th:only-of-type {\n",
       "        vertical-align: middle;\n",
       "    }\n",
       "\n",
       "    .dataframe tbody tr th {\n",
       "        vertical-align: top;\n",
       "    }\n",
       "\n",
       "    .dataframe thead th {\n",
       "        text-align: right;\n",
       "    }\n",
       "</style>\n",
       "<table border=\"1\" class=\"dataframe\">\n",
       "  <thead>\n",
       "    <tr style=\"text-align: right;\">\n",
       "      <th></th>\n",
       "      <th>ZCTA5CE20</th>\n",
       "      <th>reservation_count</th>\n",
       "      <th>average_totalpaid</th>\n",
       "      <th>sum_nights</th>\n",
       "      <th>average_nights</th>\n",
       "      <th>sum_numberofpeople</th>\n",
       "      <th>average_numberofpeople</th>\n",
       "    </tr>\n",
       "  </thead>\n",
       "  <tbody>\n",
       "    <tr>\n",
       "      <th>0</th>\n",
       "      <td>37013</td>\n",
       "      <td>5</td>\n",
       "      <td>49.0</td>\n",
       "      <td>0.0</td>\n",
       "      <td>0.0</td>\n",
       "      <td>220.0</td>\n",
       "      <td>44.0</td>\n",
       "    </tr>\n",
       "  </tbody>\n",
       "</table>\n",
       "</div>"
      ],
      "text/plain": [
       "  ZCTA5CE20  reservation_count  average_totalpaid  sum_nights  average_nights  \\\n",
       "0     37013                  5               49.0         0.0             0.0   \n",
       "\n",
       "   sum_numberofpeople  average_numberofpeople  \n",
       "0               220.0                    44.0  "
      ]
     },
     "execution_count": 5,
     "metadata": {},
     "output_type": "execute_result"
    }
   ],
   "source": [
    "# Here I am doing a group by to get the total reservations and other aggregates by zipcode\n",
    "reservation_counts = res_with_zip.groupby('ZCTA5CE20').agg({'parentlocation': 'count',                  \n",
    "    'average_totalpaid': 'mean', 'sum_nights': 'sum', 'average_nights': 'mean',\n",
    "    'sum_numberofpeople': 'sum', 'average_numberofpeople': 'mean'\n",
    "}).reset_index().rename(columns={'parentlocation': 'reservation_count'})\n",
    "reservation_counts.head(1)"
   ]
  },
  {
   "cell_type": "code",
   "execution_count": 6,
   "id": "5b5d47ef-0e56-456c-ac93-4f4cc9c50d08",
   "metadata": {},
   "outputs": [
    {
     "data": {
      "text/html": [
       "<div>\n",
       "<style scoped>\n",
       "    .dataframe tbody tr th:only-of-type {\n",
       "        vertical-align: middle;\n",
       "    }\n",
       "\n",
       "    .dataframe tbody tr th {\n",
       "        vertical-align: top;\n",
       "    }\n",
       "\n",
       "    .dataframe thead th {\n",
       "        text-align: right;\n",
       "    }\n",
       "</style>\n",
       "<table border=\"1\" class=\"dataframe\">\n",
       "  <thead>\n",
       "    <tr style=\"text-align: right;\">\n",
       "      <th></th>\n",
       "      <th>ZCTA5CE20</th>\n",
       "      <th>reservation_count</th>\n",
       "      <th>average_totalpaid</th>\n",
       "      <th>sum_nights</th>\n",
       "      <th>average_nights</th>\n",
       "      <th>sum_numberofpeople</th>\n",
       "      <th>average_numberofpeople</th>\n",
       "      <th>Median Income</th>\n",
       "      <th>Total Population</th>\n",
       "    </tr>\n",
       "  </thead>\n",
       "  <tbody>\n",
       "    <tr>\n",
       "      <th>0</th>\n",
       "      <td>37013</td>\n",
       "      <td>5</td>\n",
       "      <td>49.0</td>\n",
       "      <td>0.0</td>\n",
       "      <td>0.0</td>\n",
       "      <td>220.0</td>\n",
       "      <td>44.0</td>\n",
       "      <td>61801</td>\n",
       "      <td>102184</td>\n",
       "    </tr>\n",
       "  </tbody>\n",
       "</table>\n",
       "</div>"
      ],
      "text/plain": [
       "  ZCTA5CE20  reservation_count  average_totalpaid  sum_nights  average_nights  \\\n",
       "0     37013                  5               49.0         0.0             0.0   \n",
       "\n",
       "   sum_numberofpeople  average_numberofpeople  Median Income  Total Population  \n",
       "0               220.0                    44.0          61801            102184  "
      ]
     },
     "execution_count": 6,
     "metadata": {},
     "output_type": "execute_result"
    }
   ],
   "source": [
    "# Here I am merging median income and total population back into reservation in preperation for Tableau\n",
    "zip_analysis = pd.merge(reservation_counts, zipcode[['ZCTA5CE20', 'Median Income', 'Total Population']], on='ZCTA5CE20', how='left')\n",
    "zip_analysis.to_csv(exit + 'zip_reservation_income_analysis.csv', index=False)\n",
    "zip_analysis.head(1)"
   ]
  },
  {
   "cell_type": "markdown",
   "id": "e7d0ba78-63be-485f-9424-002a05f37891",
   "metadata": {},
   "source": [
    "### Are there trail-rich areas with few reservations?"
   ]
  },
  {
   "cell_type": "code",
   "execution_count": 7,
   "id": "5d0da0f8-5c00-408c-bf60-7bd1bcf52b53",
   "metadata": {},
   "outputs": [
    {
     "data": {
      "text/html": [
       "<div>\n",
       "<style scoped>\n",
       "    .dataframe tbody tr th:only-of-type {\n",
       "        vertical-align: middle;\n",
       "    }\n",
       "\n",
       "    .dataframe tbody tr th {\n",
       "        vertical-align: top;\n",
       "    }\n",
       "\n",
       "    .dataframe thead th {\n",
       "        text-align: right;\n",
       "    }\n",
       "</style>\n",
       "<table border=\"1\" class=\"dataframe\">\n",
       "  <thead>\n",
       "    <tr style=\"text-align: right;\">\n",
       "      <th></th>\n",
       "      <th>OBJECTID</th>\n",
       "      <th>TSP_UID</th>\n",
       "      <th>TR_NAME</th>\n",
       "      <th>SEGMNT_NAM</th>\n",
       "      <th>SEGTYP</th>\n",
       "      <th>RATING</th>\n",
       "      <th>BLZCLR</th>\n",
       "      <th>BLZMAT</th>\n",
       "      <th>BLZDSC</th>\n",
       "      <th>TRSTAT</th>\n",
       "      <th>...</th>\n",
       "      <th>PRIMARY_NA</th>\n",
       "      <th>SECONDARY_</th>\n",
       "      <th>USE_TYPE</th>\n",
       "      <th>PRIMARY_DE</th>\n",
       "      <th>SECONDAR_1</th>\n",
       "      <th>Shape__Len</th>\n",
       "      <th>GlobalID</th>\n",
       "      <th>geometry</th>\n",
       "      <th>index_right</th>\n",
       "      <th>ZCTA5CE20</th>\n",
       "    </tr>\n",
       "  </thead>\n",
       "  <tbody>\n",
       "    <tr>\n",
       "      <th>0</th>\n",
       "      <td>5</td>\n",
       "      <td>TSP-0079</td>\n",
       "      <td>Connector-3</td>\n",
       "      <td>None</td>\n",
       "      <td>Connector</td>\n",
       "      <td>2.0</td>\n",
       "      <td>None</td>\n",
       "      <td>None</td>\n",
       "      <td>None</td>\n",
       "      <td>Open</td>\n",
       "      <td>...</td>\n",
       "      <td>David Crockett State Park</td>\n",
       "      <td>None</td>\n",
       "      <td>Recreation</td>\n",
       "      <td>State Park</td>\n",
       "      <td>None</td>\n",
       "      <td>1726.712573</td>\n",
       "      <td>e9c7ab6f-359a-4bf6-acec-72b6db5289a1</td>\n",
       "      <td>LINESTRING (-87.35716 35.25245, -87.35695 35.2...</td>\n",
       "      <td>451.0</td>\n",
       "      <td>38464</td>\n",
       "    </tr>\n",
       "  </tbody>\n",
       "</table>\n",
       "<p>1 rows × 31 columns</p>\n",
       "</div>"
      ],
      "text/plain": [
       "   OBJECTID   TSP_UID      TR_NAME SEGMNT_NAM     SEGTYP  RATING BLZCLR  \\\n",
       "0         5  TSP-0079  Connector-3       None  Connector     2.0   None   \n",
       "\n",
       "  BLZMAT BLZDSC TRSTAT  ...                 PRIMARY_NA SECONDARY_    USE_TYPE  \\\n",
       "0   None   None   Open  ...  David Crockett State Park       None  Recreation   \n",
       "\n",
       "   PRIMARY_DE SECONDAR_1   Shape__Len                              GlobalID  \\\n",
       "0  State Park       None  1726.712573  e9c7ab6f-359a-4bf6-acec-72b6db5289a1   \n",
       "\n",
       "                                            geometry index_right ZCTA5CE20  \n",
       "0  LINESTRING (-87.35716 35.25245, -87.35695 35.2...       451.0     38464  \n",
       "\n",
       "[1 rows x 31 columns]"
      ]
     },
     "execution_count": 7,
     "metadata": {},
     "output_type": "execute_result"
    }
   ],
   "source": [
    "# Here I am doing a spatial join for trail and zipcode\n",
    "trail_with_zip = gpd.sjoin(trail, zipcode[['ZCTA5CE20', 'geometry']], how='left', predicate='intersects')\n",
    "trail_with_zip.head(1)"
   ]
  },
  {
   "cell_type": "code",
   "execution_count": 8,
   "id": "211406cb-2414-4676-b5bf-eb12f55c0a55",
   "metadata": {},
   "outputs": [
    {
     "data": {
      "text/html": [
       "<div>\n",
       "<style scoped>\n",
       "    .dataframe tbody tr th:only-of-type {\n",
       "        vertical-align: middle;\n",
       "    }\n",
       "\n",
       "    .dataframe tbody tr th {\n",
       "        vertical-align: top;\n",
       "    }\n",
       "\n",
       "    .dataframe thead th {\n",
       "        text-align: right;\n",
       "    }\n",
       "</style>\n",
       "<table border=\"1\" class=\"dataframe\">\n",
       "  <thead>\n",
       "    <tr style=\"text-align: right;\">\n",
       "      <th></th>\n",
       "      <th>OBJECTID</th>\n",
       "      <th>TSP_UID</th>\n",
       "      <th>TR_NAME</th>\n",
       "      <th>SEGMNT_NAM</th>\n",
       "      <th>SEGTYP</th>\n",
       "      <th>RATING</th>\n",
       "      <th>BLZCLR</th>\n",
       "      <th>BLZMAT</th>\n",
       "      <th>BLZDSC</th>\n",
       "      <th>TRSTAT</th>\n",
       "      <th>...</th>\n",
       "      <th>PRIMARY_NA</th>\n",
       "      <th>SECONDARY_</th>\n",
       "      <th>USE_TYPE</th>\n",
       "      <th>PRIMARY_DE</th>\n",
       "      <th>SECONDAR_1</th>\n",
       "      <th>Shape__Len</th>\n",
       "      <th>GlobalID</th>\n",
       "      <th>geometry</th>\n",
       "      <th>index_right</th>\n",
       "      <th>ZCTA5CE20</th>\n",
       "    </tr>\n",
       "  </thead>\n",
       "  <tbody>\n",
       "    <tr>\n",
       "      <th>0</th>\n",
       "      <td>5</td>\n",
       "      <td>TSP-0079</td>\n",
       "      <td>Connector-3</td>\n",
       "      <td>None</td>\n",
       "      <td>Connector</td>\n",
       "      <td>2.0</td>\n",
       "      <td>None</td>\n",
       "      <td>None</td>\n",
       "      <td>None</td>\n",
       "      <td>Open</td>\n",
       "      <td>...</td>\n",
       "      <td>David Crockett State Park</td>\n",
       "      <td>None</td>\n",
       "      <td>Recreation</td>\n",
       "      <td>State Park</td>\n",
       "      <td>None</td>\n",
       "      <td>1726.712573</td>\n",
       "      <td>e9c7ab6f-359a-4bf6-acec-72b6db5289a1</td>\n",
       "      <td>LINESTRING (-87.35716 35.25245, -87.35695 35.2...</td>\n",
       "      <td>451.0</td>\n",
       "      <td>38464</td>\n",
       "    </tr>\n",
       "  </tbody>\n",
       "</table>\n",
       "<p>1 rows × 31 columns</p>\n",
       "</div>"
      ],
      "text/plain": [
       "   OBJECTID   TSP_UID      TR_NAME SEGMNT_NAM     SEGTYP  RATING BLZCLR  \\\n",
       "0         5  TSP-0079  Connector-3       None  Connector     2.0   None   \n",
       "\n",
       "  BLZMAT BLZDSC TRSTAT  ...                 PRIMARY_NA SECONDARY_    USE_TYPE  \\\n",
       "0   None   None   Open  ...  David Crockett State Park       None  Recreation   \n",
       "\n",
       "   PRIMARY_DE SECONDAR_1   Shape__Len                              GlobalID  \\\n",
       "0  State Park       None  1726.712573  e9c7ab6f-359a-4bf6-acec-72b6db5289a1   \n",
       "\n",
       "                                            geometry index_right ZCTA5CE20  \n",
       "0  LINESTRING (-87.35716 35.25245, -87.35695 35.2...       451.0     38464  \n",
       "\n",
       "[1 rows x 31 columns]"
      ]
     },
     "execution_count": 8,
     "metadata": {},
     "output_type": "execute_result"
    }
   ],
   "source": [
    "# Here I am summing up the length of the trails by zipcode \n",
    "trail_by_zip = trail_with_zip.groupby('ZCTA5CE20').agg({'SEGLEN': 'sum'\n",
    "}).reset_index().rename(columns={'SEGLEN': 'total_trail_length'})\n",
    "trail_with_zip.head(1)"
   ]
  },
  {
   "cell_type": "code",
   "execution_count": 9,
   "id": "5a509eb0-2bc0-4740-9bba-9ad45af387e7",
   "metadata": {},
   "outputs": [
    {
     "data": {
      "text/html": [
       "<div>\n",
       "<style scoped>\n",
       "    .dataframe tbody tr th:only-of-type {\n",
       "        vertical-align: middle;\n",
       "    }\n",
       "\n",
       "    .dataframe tbody tr th {\n",
       "        vertical-align: top;\n",
       "    }\n",
       "\n",
       "    .dataframe thead th {\n",
       "        text-align: right;\n",
       "    }\n",
       "</style>\n",
       "<table border=\"1\" class=\"dataframe\">\n",
       "  <thead>\n",
       "    <tr style=\"text-align: right;\">\n",
       "      <th></th>\n",
       "      <th>ZCTA5CE20</th>\n",
       "      <th>reservation_count</th>\n",
       "    </tr>\n",
       "  </thead>\n",
       "  <tbody>\n",
       "    <tr>\n",
       "      <th>0</th>\n",
       "      <td>37013</td>\n",
       "      <td>5</td>\n",
       "    </tr>\n",
       "  </tbody>\n",
       "</table>\n",
       "</div>"
      ],
      "text/plain": [
       "  ZCTA5CE20  reservation_count\n",
       "0     37013                  5"
      ]
     },
     "execution_count": 9,
     "metadata": {},
     "output_type": "execute_result"
    }
   ],
   "source": [
    "# Here I am getting the count of reservations by zipcode \n",
    "reservation_counts = res_with_zip.groupby('ZCTA5CE20').size().reset_index(name='reservation_count')\n",
    "reservation_counts.head(1)"
   ]
  },
  {
   "cell_type": "code",
   "execution_count": 10,
   "id": "6be236d0-3887-4574-be5d-407ee8dcbbb8",
   "metadata": {},
   "outputs": [
    {
     "data": {
      "text/html": [
       "<div>\n",
       "<style scoped>\n",
       "    .dataframe tbody tr th:only-of-type {\n",
       "        vertical-align: middle;\n",
       "    }\n",
       "\n",
       "    .dataframe tbody tr th {\n",
       "        vertical-align: top;\n",
       "    }\n",
       "\n",
       "    .dataframe thead th {\n",
       "        text-align: right;\n",
       "    }\n",
       "</style>\n",
       "<table border=\"1\" class=\"dataframe\">\n",
       "  <thead>\n",
       "    <tr style=\"text-align: right;\">\n",
       "      <th></th>\n",
       "      <th>ZCTA5CE20</th>\n",
       "      <th>total_trail_length</th>\n",
       "      <th>reservation_count</th>\n",
       "      <th>Median Income</th>\n",
       "      <th>Total Population</th>\n",
       "    </tr>\n",
       "  </thead>\n",
       "  <tbody>\n",
       "    <tr>\n",
       "      <th>0</th>\n",
       "      <td>37013</td>\n",
       "      <td>0.180698</td>\n",
       "      <td>5.0</td>\n",
       "      <td>61801</td>\n",
       "      <td>102184</td>\n",
       "    </tr>\n",
       "  </tbody>\n",
       "</table>\n",
       "</div>"
      ],
      "text/plain": [
       "  ZCTA5CE20  total_trail_length  reservation_count  Median Income  \\\n",
       "0     37013            0.180698                5.0          61801   \n",
       "\n",
       "   Total Population  \n",
       "0            102184  "
      ]
     },
     "execution_count": 10,
     "metadata": {},
     "output_type": "execute_result"
    }
   ],
   "source": [
    "# Here I am merging trails, zipcodes and reservations to prepare for Tableau\n",
    "trail_res_combo = pd.merge(trail_by_zip, reservation_counts, on='ZCTA5CE20', how='outer').fillna(0)\n",
    "trail_res_combo = pd.merge(trail_res_combo, zipcode[['ZCTA5CE20', 'Median Income', 'Total Population']], on='ZCTA5CE20', how='left')\n",
    "trail_res_combo.to_csv(exit + 'trail_vs_reservations.csv', index=False)\n",
    "trail_res_combo.head(1)"
   ]
  },
  {
   "cell_type": "markdown",
   "id": "fe60fed7-b1a9-4276-8a75-f7d14d7de62c",
   "metadata": {},
   "source": [
    "### What is the average number of people per reservation, and does that correlate with proximity to parks/trails?"
   ]
  },
  {
   "cell_type": "code",
   "execution_count": 11,
   "id": "12e7b268-9f79-401a-9d77-c7af959edb08",
   "metadata": {},
   "outputs": [],
   "source": [
    "# Here I am adding a buffer to the trails and reservations to look at the affects of proximity to \n",
    "# trails on the number of reservations placed\n",
    "trail_buffer = trail\n",
    "trail_buffer = trail_buffer.to_crs(epsg=3857)\n",
    "trail_buffer['geometry'] = trail_buffer.buffer(500)\n",
    "trail_buffer = trail_buffer.to_crs('EPSG:4326')\n",
    "res_near_trail = gpd.sjoin(res, trail_buffer[['geometry']], how='left', predicate='within')\n",
    "res_near_trail = res_near_trail.reset_index()\n",
    "res['near_trail'] = res.index.isin(res_near_trail['index'])"
   ]
  },
  {
   "cell_type": "code",
   "execution_count": 12,
   "id": "74f3dae7-8804-4238-b189-bf2e751030e1",
   "metadata": {},
   "outputs": [],
   "source": [
    "# Here I am doing the same thing for parks and reservations\n",
    "park_buffer = park\n",
    "park_buffer = park_buffer.to_crs(epsg=3857)\n",
    "park_buffer['geometry'] = park_buffer.buffer(250)\n",
    "park_buffer = park_buffer.to_crs('EPSG:4326')\n",
    "res_near_park = gpd.sjoin(res, park_buffer[['geometry']], how='left', predicate='within')\n",
    "res['near_park'] = res_near_park.index_right.notnull()"
   ]
  },
  {
   "cell_type": "code",
   "execution_count": 13,
   "id": "3353cc4a-c1ce-48ce-859c-16cfef6eee2b",
   "metadata": {},
   "outputs": [],
   "source": [
    "# Now that everything is combined I am doing  group by to prepare the data for visualizing in Tableau\n",
    "group_stats = res.groupby(['near_trail', 'near_park']).agg({\n",
    "    'average_numberofpeople': ['mean', 'count']}).reset_index()\n",
    "group_stats.columns = ['near_trail', 'near_park', 'avg_people', 'num_reservations']\n",
    "group_stats.to_csv(exit + 'group_size_vs_proximity.csv', index=False)"
   ]
  },
  {
   "cell_type": "markdown",
   "id": "72081a20-74dd-47b7-9b5e-81b8cb3f2e85",
   "metadata": {},
   "source": [
    "### Which ZIP codes generate the most outdoor reservations?"
   ]
  },
  {
   "cell_type": "code",
   "execution_count": 14,
   "id": "366c7a37-cb1c-421d-ad4f-3ab725de8c2a",
   "metadata": {},
   "outputs": [],
   "source": [
    "# Here I am looking at the count of origin zips to show where people are coming from\n",
    "origin_zip_counts = res.groupby('customerzip').size().reset_index(name='reservation_count')\n",
    "# I also wanted to add in some of the other stats\n",
    "origin_zip_stats = res.groupby('customerzip').agg({'average_totalpaid': 'mean',\n",
    "    'average_numberofpeople': 'mean', 'sum_nights': 'sum'}).reset_index()\n",
    "# Merge the two together for an origin summary and export for Tableau\n",
    "zip_origin_summary = pd.merge(origin_zip_counts, origin_zip_stats, on='customerzip', how='left')\n",
    "zip_origin_summary.to_csv(exit + 'zip_origin_reservations.csv', index=False)"
   ]
  },
  {
   "cell_type": "markdown",
   "id": "bc20e60c-06a2-401f-bc13-97af56f7f21b",
   "metadata": {},
   "source": [
    "### Can we rank ZIPs for trail expansion priority?"
   ]
  },
  {
   "cell_type": "code",
   "execution_count": 15,
   "id": "77780bf1-a34f-4916-ba22-0a81177bdcfe",
   "metadata": {},
   "outputs": [
    {
     "data": {
      "text/html": [
       "<div>\n",
       "<style scoped>\n",
       "    .dataframe tbody tr th:only-of-type {\n",
       "        vertical-align: middle;\n",
       "    }\n",
       "\n",
       "    .dataframe tbody tr th {\n",
       "        vertical-align: top;\n",
       "    }\n",
       "\n",
       "    .dataframe thead th {\n",
       "        text-align: right;\n",
       "    }\n",
       "</style>\n",
       "<table border=\"1\" class=\"dataframe\">\n",
       "  <thead>\n",
       "    <tr style=\"text-align: right;\">\n",
       "      <th></th>\n",
       "      <th>ZCTA5CE20</th>\n",
       "      <th>trail_mileage</th>\n",
       "    </tr>\n",
       "  </thead>\n",
       "  <tbody>\n",
       "    <tr>\n",
       "      <th>0</th>\n",
       "      <td>37013</td>\n",
       "      <td>0.180698</td>\n",
       "    </tr>\n",
       "  </tbody>\n",
       "</table>\n",
       "</div>"
      ],
      "text/plain": [
       "  ZCTA5CE20  trail_mileage\n",
       "0     37013       0.180698"
      ]
     },
     "execution_count": 15,
     "metadata": {},
     "output_type": "execute_result"
    }
   ],
   "source": [
    "# I am joining trail with zip to see how much trail is in each of the zipcodes\n",
    "trail_zip = gpd.sjoin(trail, zipcode[['ZCTA5CE20', 'geometry']], how='left', predicate='intersects')\n",
    "trail_by_zip = trail_zip.groupby('ZCTA5CE20')['SEGLEN'].sum().reset_index().rename(columns={'SEGLEN': 'trail_mileage'})\n",
    "trail_by_zip.head(1)"
   ]
  },
  {
   "cell_type": "code",
   "execution_count": 16,
   "id": "88f07950-129e-4b5d-9cdd-991b95c82d39",
   "metadata": {},
   "outputs": [
    {
     "data": {
      "text/html": [
       "<div>\n",
       "<style scoped>\n",
       "    .dataframe tbody tr th:only-of-type {\n",
       "        vertical-align: middle;\n",
       "    }\n",
       "\n",
       "    .dataframe tbody tr th {\n",
       "        vertical-align: top;\n",
       "    }\n",
       "\n",
       "    .dataframe thead th {\n",
       "        text-align: right;\n",
       "    }\n",
       "</style>\n",
       "<table border=\"1\" class=\"dataframe\">\n",
       "  <thead>\n",
       "    <tr style=\"text-align: right;\">\n",
       "      <th></th>\n",
       "      <th>ZCTA5CE20</th>\n",
       "      <th>reservation_count</th>\n",
       "    </tr>\n",
       "  </thead>\n",
       "  <tbody>\n",
       "    <tr>\n",
       "      <th>0</th>\n",
       "      <td>37013</td>\n",
       "      <td>5</td>\n",
       "    </tr>\n",
       "  </tbody>\n",
       "</table>\n",
       "</div>"
      ],
      "text/plain": [
       "  ZCTA5CE20  reservation_count\n",
       "0     37013                  5"
      ]
     },
     "execution_count": 16,
     "metadata": {},
     "output_type": "execute_result"
    }
   ],
   "source": [
    "# Here I am joining reservations with zip to find where there are lots of reservations made\n",
    "res_zip = gpd.sjoin(res, zipcode[['ZCTA5CE20', 'geometry']], how='left', predicate='within')\n",
    "res_by_zip = res_zip.groupby('ZCTA5CE20').size().reset_index(name='reservation_count')\n",
    "res_by_zip.head(1)"
   ]
  },
  {
   "cell_type": "code",
   "execution_count": 17,
   "id": "f4dd2732-4086-4aa0-9dfc-6fb2b96acb33",
   "metadata": {},
   "outputs": [],
   "source": [
    "# Here I am creating a summary by zipcode for analysis\n",
    "zip_stats = zipcode[['ZCTA5CE20', 'Median Income', 'Total Population']]\n",
    "zip_summary = res_by_zip.merge(trail_by_zip, on='ZCTA5CE20', how='outer').merge(zip_stats, on='ZCTA5CE20', how='left').fillna(0)"
   ]
  },
  {
   "cell_type": "code",
   "execution_count": 18,
   "id": "06c9ac7c-6578-4762-92f5-b489370684e4",
   "metadata": {},
   "outputs": [],
   "source": [
    "# Here I am scaling my value for easier calculations\n",
    "scaler = MinMaxScaler()\n",
    "zip_summary[['norm_trail', 'norm_res', 'norm_income', 'norm_pop']] = scaler.fit_transform(\n",
    "    zip_summary[['trail_mileage', 'reservation_count', 'Median Income', 'Total Population']]\n",
    ")"
   ]
  },
  {
   "cell_type": "code",
   "execution_count": 19,
   "id": "d411b176-d950-479a-8fc5-979452596d79",
   "metadata": {},
   "outputs": [],
   "source": [
    "# We have a few calculations that are opposite from the rest, like trail being larger means that \n",
    "# there is less need for trails. So we are going to invert these ones\n",
    "zip_summary['trail_need'] = 1 - zip_summary['norm_trail']\n",
    "zip_summary['income_priority'] = 1 - zip_summary['norm_income']"
   ]
  },
  {
   "cell_type": "code",
   "execution_count": 20,
   "id": "1ffa6508-82e3-4581-be22-a15c21671376",
   "metadata": {},
   "outputs": [],
   "source": [
    "# Here we are weighting the scores, so we can prioritize where reservation are hot and \n",
    "# where there are few trails\n",
    "zip_summary['priority_score'] = (zip_summary['trail_need'] * 0.4 + zip_summary['norm_res'] * 0.3 +\n",
    "    zip_summary['income_priority'] * 0.2 + zip_summary['norm_pop'] * 0.1)"
   ]
  },
  {
   "cell_type": "code",
   "execution_count": 21,
   "id": "bbfcbb38-e0d3-4e1c-8d19-c8a7cf0c521d",
   "metadata": {},
   "outputs": [],
   "source": [
    "# Here we are just ranking zipcodes by the priority score we just made to see where trails are most\n",
    "# needed\n",
    "zip_summary['trail_priority_rank'] = zip_summary['priority_score'].rank(ascending=False)"
   ]
  },
  {
   "cell_type": "code",
   "execution_count": 22,
   "id": "27649f67-e445-40e5-9ef2-6c15e8a1ee5f",
   "metadata": {},
   "outputs": [
    {
     "data": {
      "text/html": [
       "<div>\n",
       "<style scoped>\n",
       "    .dataframe tbody tr th:only-of-type {\n",
       "        vertical-align: middle;\n",
       "    }\n",
       "\n",
       "    .dataframe tbody tr th {\n",
       "        vertical-align: top;\n",
       "    }\n",
       "\n",
       "    .dataframe thead th {\n",
       "        text-align: right;\n",
       "    }\n",
       "</style>\n",
       "<table border=\"1\" class=\"dataframe\">\n",
       "  <thead>\n",
       "    <tr style=\"text-align: right;\">\n",
       "      <th></th>\n",
       "      <th>ZCTA5CE20</th>\n",
       "      <th>reservation_count</th>\n",
       "      <th>trail_mileage</th>\n",
       "      <th>Median Income</th>\n",
       "      <th>Total Population</th>\n",
       "      <th>norm_trail</th>\n",
       "      <th>norm_res</th>\n",
       "      <th>norm_income</th>\n",
       "      <th>norm_pop</th>\n",
       "      <th>trail_need</th>\n",
       "      <th>income_priority</th>\n",
       "      <th>priority_score</th>\n",
       "      <th>trail_priority_rank</th>\n",
       "    </tr>\n",
       "  </thead>\n",
       "  <tbody>\n",
       "    <tr>\n",
       "      <th>0</th>\n",
       "      <td>37013</td>\n",
       "      <td>5.0</td>\n",
       "      <td>0.180698</td>\n",
       "      <td>61801</td>\n",
       "      <td>102184</td>\n",
       "      <td>0.001806</td>\n",
       "      <td>0.022523</td>\n",
       "      <td>0.999886</td>\n",
       "      <td>1.0</td>\n",
       "      <td>0.998194</td>\n",
       "      <td>0.000114</td>\n",
       "      <td>0.506057</td>\n",
       "      <td>6.0</td>\n",
       "    </tr>\n",
       "  </tbody>\n",
       "</table>\n",
       "</div>"
      ],
      "text/plain": [
       "  ZCTA5CE20  reservation_count  trail_mileage  Median Income  \\\n",
       "0     37013                5.0       0.180698          61801   \n",
       "\n",
       "   Total Population  norm_trail  norm_res  norm_income  norm_pop  trail_need  \\\n",
       "0            102184    0.001806  0.022523     0.999886       1.0    0.998194   \n",
       "\n",
       "   income_priority  priority_score  trail_priority_rank  \n",
       "0         0.000114        0.506057                  6.0  "
      ]
     },
     "execution_count": 22,
     "metadata": {},
     "output_type": "execute_result"
    }
   ],
   "source": [
    "# Here we are exporting for Tableau\n",
    "zip_summary.to_csv(exit + 'trail_expansion_priority.csv', index=False)\n",
    "zip_summary.head(1)"
   ]
  },
  {
   "cell_type": "code",
   "execution_count": 23,
   "id": "d44c9ad7-f4a1-41d9-845d-a7f33bec7cb3",
   "metadata": {},
   "outputs": [],
   "source": [
    "# Here I am adding in some geometry and creating a Geo file for Taleau\n",
    "zip_geo = zipcode[['ZCTA5CE20', 'geometry']]\n",
    "zip_summary = zip_summary.merge(zip_geo, on = 'ZCTA5CE20', how = 'inner')\n",
    "zip_gdf = gpd.GeoDataFrame(zip_summary, geometry='geometry')\n",
    "zip_gdf.set_crs(\"EPSG:4326\", inplace=True)\n",
    "zip_gdf.to_file(exit + \"trail_expansion_priority.geojson\", driver=\"GeoJSON\")"
   ]
  },
  {
   "cell_type": "markdown",
   "id": "71fd1203-8188-4379-8472-4f8ddad639af",
   "metadata": {},
   "source": [
    "### How does Income vary across ZIPs with high vs. low recreation access scores?"
   ]
  },
  {
   "cell_type": "code",
   "execution_count": 36,
   "id": "c3c0db1b-2e04-4a8c-b145-aa3ed5b8af58",
   "metadata": {},
   "outputs": [],
   "source": [
    "# Here we will merge trail and reservation data to zipcode and fill in na with 0's\n",
    "zip = zipcode[['ZCTA5CE20', 'Total Population', 'Median Income]]\n",
    "access = zip.merge(trail_by_zip, on='ZCTA5CE20', how='left')\n",
    "access = access.merge(res_by_zip, on='ZCTA5CE20', how='left')\n",
    "access = access.fillna(0)"
   ]
  },
  {
   "cell_type": "code",
   "execution_count": 37,
   "id": "86d250dc-35f9-4db5-b6e3-84dac972234f",
   "metadata": {},
   "outputs": [],
   "source": [
    "# Here we are making a flag for high and low access based on trail mileage\n",
    "trail_mean = access['trail_mileage'].mean()\n",
    "access['access_group'] = access['trail_mileage'].apply(\n",
    "    lambda x: 'High Access' if x >= trail_mean else 'Low Access')"
   ]
  },
  {
   "cell_type": "code",
   "execution_count": 38,
   "id": "55f4a972-06b8-4732-8bfc-965779b0972d",
   "metadata": {},
   "outputs": [],
   "source": [
    "# Here we will add \n",
    "access.to_csv(exit + 'simple_access_income.csv', index=False)"
   ]
  },
  {
   "cell_type": "code",
   "execution_count": null,
   "id": "d093974d-0ab7-48a0-bd4a-5c53c77adc1d",
   "metadata": {},
   "outputs": [],
   "source": []
  }
 ],
 "metadata": {
  "kernelspec": {
   "display_name": "Python 3 (ipykernel)",
   "language": "python",
   "name": "python3"
  },
  "language_info": {
   "codemirror_mode": {
    "name": "ipython",
    "version": 3
   },
   "file_extension": ".py",
   "mimetype": "text/x-python",
   "name": "python",
   "nbconvert_exporter": "python",
   "pygments_lexer": "ipython3",
   "version": "3.10.16"
  }
 },
 "nbformat": 4,
 "nbformat_minor": 5
}
